{
 "cells": [
  {
   "cell_type": "markdown",
   "metadata": {},
   "source": [
    "## Final Project Submission\n",
    "\n",
    "Please fill out:\n",
    "* Student name: Henry Kemboi\n",
    "* Student pace: full time - remote\n",
    "* Scheduled project review date/time: \n",
    "* Instructor name: Lucille / Asha\n",
    "* Blog post URL:\n"
   ]
  },
  {
   "cell_type": "markdown",
   "metadata": {},
   "source": [
    "### Project Overview\n",
    "\n",
    "This project uses data cleaning, imputation, analysis, and visualization to generate insights for a business stakeholder."
   ]
  },
  {
   "cell_type": "markdown",
   "metadata": {},
   "source": [
    "### Business Problem\n",
    "A company is expanding and they are interested in purchasing and operating airplanes for commercial and private enterprises, but do not know anything about the potential risks of aircraft. A dataset from the National Transportation Safety Board that includes aviation accident data from 1962 to 2023 about civil aviation accidents and selected incidents in the United States and international waters has been provided under the data folder named `AviationData.csv`. The task is to determine which aircraft are the lowest risk for the company to start this new business endeavor and then translate the findings into actionable insights that the head of the new aviation division can use to help decide which aircraft to purchase."
   ]
  },
  {
   "cell_type": "markdown",
   "metadata": {},
   "source": [
    "## 1. Setup\n",
    "\n",
    "In the cell below, import the `pandas` library using the standard alias `pd`, `numpy` as `np` and `matplotlib.pyplot` as `plt`."
   ]
  },
  {
   "cell_type": "code",
   "execution_count": null,
   "metadata": {},
   "outputs": [],
   "source": [
    "# Import Pandas with the standard alias\n",
    "import pandas as pd\n",
    "import numpy as np\n",
    "import matplotlib.pyplot as plt\n",
    "import seaborn as sns"
   ]
  },
  {
   "cell_type": "markdown",
   "metadata": {},
   "source": [
    "## 2. Load the Data into a DataFrame Called `aviation_data`\n",
    "\n",
    "The file path is `AviationData.csv` located within the data folder. Use pandas to read in the data from this CSV file and create a dataframe named `aviation_data` using the correct encoding."
   ]
  },
  {
   "cell_type": "code",
   "execution_count": null,
   "metadata": {
    "scrolled": true
   },
   "outputs": [],
   "source": [
    "aviation_data = pd.read_csv(\"./data/AviationData.csv\", encoding='latin-1', low_memory=False)\n",
    "pd.options.display.max_columns = None\n",
    "aviation_data\n",
    "\n"
   ]
  },
  {
   "cell_type": "markdown",
   "metadata": {},
   "source": [
    "## 3. Data Cleaning and Filter Data to Find the Top Number of Accidents by Aircraft Make and Model\n",
    "\n",
    "Let us grab the accident, make and model columns from the avition_data dataframe to analyze the number of accidents per make and model of aircraft. Modify dataframe so that it only contains rows where Model is not missing (i.e. is not NaN). Thereafter we will first change all the Make column to Title case. Since the dataset is very large, we only display the top 30 Makes."
   ]
  },
  {
   "cell_type": "code",
   "execution_count": null,
   "metadata": {},
   "outputs": [],
   "source": [
    "#Convert all values in the Make column names to Title case\n",
    "\n",
    "aviation_data[\"Make\"]= aviation_data[\"Make\"].str.title()\n",
    "\n",
    "# Drop rows where Model is NaN\n",
    "aviation_data = aviation_data.dropna(subset=[\"Model\"])\n",
    "\n",
    "#Get the count of accidents per make and model\n",
    "top_accidents_per_make = aviation_data['Make'].value_counts().head(30)\n",
    "top_accidents_per_model = aviation_data['Model'].value_counts().head(30)\n"
   ]
  },
  {
   "cell_type": "code",
   "execution_count": null,
   "metadata": {},
   "outputs": [],
   "source": [
    "# Convert the dictionaries to a pandas series for easier plotting\n",
    "top_accidents_per_make_series = pd.Series(top_accidents_per_make)\n",
    "top_accidents_per_model_series = pd.Series(top_accidents_per_model)"
   ]
  },
  {
   "cell_type": "code",
   "execution_count": null,
   "metadata": {},
   "outputs": [],
   "source": [
    "# Plotting the graph for top accidents per make\n",
    "plt.figure(figsize=(10, 6))\n",
    "top_accidents_per_make_series.plot(kind='bar', color='blue')\n",
    "plt.title('Top Number of Accidents per Make')\n",
    "plt.xlabel('Aircraft Make')\n",
    "plt.ylabel('Number of Accidents')\n",
    "plt.xticks(rotation=90)  # Rotating the x-axis labels for better readability\n",
    "plt.tight_layout()  # Adjust layout to prevent label overlap\n",
    "plt.show()"
   ]
  },
  {
   "cell_type": "markdown",
   "metadata": {},
   "source": [
    "#### Let us now show the top number of accidents per model"
   ]
  },
  {
   "cell_type": "code",
   "execution_count": null,
   "metadata": {},
   "outputs": [],
   "source": [
    "# Plotting the graph for least accidents per make\n",
    "plt.figure(figsize=(10, 6))\n",
    "top_accidents_per_model_series.plot(kind='barh', color='blue')\n",
    "plt.title('Top Number of Aircraft Accidents per Model')\n",
    "plt.xlabel('Number of Accidents')\n",
    "plt.ylabel('Aircraft Make')\n",
    "plt.xticks(rotation=90)  # Rotating the x-axis labels for better readability\n",
    "plt.tight_layout()  # Adjust layout to prevent label overlap\n",
    "plt.show()"
   ]
  },
  {
   "cell_type": "markdown",
   "metadata": {},
   "source": [
    "From the above bar graphs, it is clear that aircrafts of Cessna Make have the highest number of accidents while aircrafts of the model 152 have the highest number of accidents.\n",
    "\n",
    "Now Let us explore the relationship between the number of accidents per both make and model."
   ]
  },
  {
   "cell_type": "markdown",
   "metadata": {},
   "source": [
    "## 4 Explorative Analysis \n",
    "### 4.1 Accidents by both make and model\n",
    "\n",
    "We now want to see the number of accidents by both make and model"
   ]
  },
  {
   "cell_type": "code",
   "execution_count": null,
   "metadata": {},
   "outputs": [],
   "source": [
    "# Grouping the data by Make and Model to count the number of accidents\n",
    "accident_counts = aviation_data.groupby(['Make', 'Model']).size().reset_index(name='Accident_Count')\n",
    "\n",
    "# Sorting the values for better visualization and then grabbing the first 30 values because the dataset is too large\n",
    "accident_counts = accident_counts.sort_values('Accident_Count', ascending=False).tail(100-150)\n",
    "\n",
    "# Plotting the barplot\n",
    "plt.figure(figsize=(12, 30))\n",
    "sns.barplot(data=accident_counts, x='Accident_Count', y='Model', hue='Make', palette='bright')\n",
    "\n",
    "# Adding titles and labels\n",
    "plt.title('Number of Accidents by Aircraft Make and Model')\n",
    "plt.xlabel('Number of Accidents')\n",
    "plt.ylabel('Aircraft Model')\n",
    "plt.tight_layout()  # Adjust layout to prevent label overlap\n",
    "\n",
    "# Displaying the plot\n",
    "plt.show()"
   ]
  },
  {
   "cell_type": "markdown",
   "metadata": {},
   "source": [
    "From the graph above, it is quite clear that Cessna and Piper aircrafts are quite prone to accidents. Also of importance to note is that while Boeing, Bell and Grumman appear in the top 30, it is only one particular model of each make that has a high vulnerability of accidents i.e. 737, 206B and G164A respectively."
   ]
  },
  {
   "cell_type": "markdown",
   "metadata": {},
   "source": [
    "### 4.2 Accidents by make and model based on the weather condition\n",
    "\n",
    "It is also important to find out how an aircraft performs during different weather conditions.\n",
    "\n",
    "For this, we have to create a new column combining the Make and Model for easier visualization"
   ]
  },
  {
   "cell_type": "code",
   "execution_count": null,
   "metadata": {},
   "outputs": [],
   "source": [
    "# Create a new column combining the Make and Model for easier visualization\n",
    "aviation_data['Make_Model'] = aviation_data['Make'] + ' ' + aviation_data['Model']"
   ]
  },
  {
   "cell_type": "markdown",
   "metadata": {},
   "source": [
    "Now, let us find the count of accidents based on weather and aircraft model. "
   ]
  },
  {
   "cell_type": "code",
   "execution_count": null,
   "metadata": {},
   "outputs": [],
   "source": [
    "# Count the number of accidents based on weather and aircraft model\n",
    "accident_counts_weather = aviation_data.groupby(['Weather.Condition', 'Make_Model']).size().reset_index(name='Accident_Count_Weather')\n",
    "\n",
    "# Sorting the values for better visualization and then grabbing the first 30 values because the dataset is too large\n",
    "accident_counts_weather = accident_counts_weather.sort_values('Accident_Count_Weather', ascending=False).head(30)\n"
   ]
  },
  {
   "cell_type": "markdown",
   "metadata": {},
   "source": [
    "Now plot the graph using Seaborn:"
   ]
  },
  {
   "cell_type": "code",
   "execution_count": null,
   "metadata": {},
   "outputs": [],
   "source": [
    "# Plot the data using seaborn\n",
    "plt.figure(figsize=(12, 6))\n",
    "sns.barplot(x='Accident_Count_Weather', y='Make_Model', hue='Weather.Condition', data=accident_counts_weather, palette='bright')\n",
    "\n",
    "# Add plot title and labels\n",
    "plt.title('Number of Aircraft Accidents by Weather Condition and Aircraft Make/Model')\n",
    "plt.xlabel('Number of Accidents')\n",
    "plt.ylabel('Aircraft Make and Model')\n",
    "\n",
    "# Show the plot\n",
    "plt.tight_layout()\n",
    "plt.show()"
   ]
  },
  {
   "cell_type": "markdown",
   "metadata": {},
   "source": [
    "From the above graph, it is quite astonishing that the top 30 number of accidents based on weather condition happened under Visual Meteorological Conditions (VMC) i.e. weather conditions under which pilots have sufficient visibility to fly aircraft relying on visual references. Thus it can be concluded that weather may have played little to no role in the aircraft accident. It thus points more towards the make and model of the aircraft itself. It cements the fact that Cessna and Piper makes should be avoided at all costs because they are prone to accidents.\n",
    "\n",
    "We can explore more by finding out the number of accidents based on weather condition. We plot a graph to show the same."
   ]
  },
  {
   "cell_type": "markdown",
   "metadata": {},
   "source": [
    "### 4.2.1 All Accidents based on Weather Condition\n",
    "\n",
    "Let us see if we can have a better view of all the accidents based on weather condition."
   ]
  },
  {
   "cell_type": "code",
   "execution_count": null,
   "metadata": {},
   "outputs": [],
   "source": [
    "# First change all the values in the Weather column to Upper case since some values are in Title case\n",
    "\n",
    "aviation_data[\"Weather.Condition\"]= aviation_data[\"Weather.Condition\"].str.upper()\n",
    "\n",
    "# Count number of accidents by Weather.Condition\n",
    "weather_counts = aviation_data['Weather.Condition'].value_counts().reset_index()\n",
    "weather_counts.columns = ['Weather.Condition', 'Count']"
   ]
  },
  {
   "cell_type": "markdown",
   "metadata": {},
   "source": [
    "Now plot the graph using Seaborn to visualize the number of Accidents by weather condition."
   ]
  },
  {
   "cell_type": "code",
   "execution_count": null,
   "metadata": {},
   "outputs": [],
   "source": [
    "# Plot using Seaborn\n",
    "plt.figure(figsize=(10, 6))\n",
    "sns.barplot(data=weather_counts, x='Weather.Condition', y='Count', palette='bright')\n",
    "\n",
    "# Add labels and title\n",
    "plt.title('Number of Aircraft Accidents by Weather Condition')\n",
    "plt.xlabel('Weather Condition')\n",
    "plt.ylabel('Number of Accidents')\n",
    "\n",
    "# Show plot\n",
    "plt.show()"
   ]
  },
  {
   "cell_type": "markdown",
   "metadata": {},
   "source": [
    "From the graph above, it is clear that over 75, 000 accidents took place under VMC conditions. We can thus draw the conclusion that weather plays little to no role for most of the accidents."
   ]
  },
  {
   "cell_type": "markdown",
   "metadata": {},
   "source": [
    "## 5. Which city is the most dangerous to fly into\n",
    "\n",
    "As the company ventures into aviation business, it is also important to know which is the most dangerous city to fly into."
   ]
  },
  {
   "cell_type": "code",
   "execution_count": null,
   "metadata": {},
   "outputs": [],
   "source": [
    "most_dangerous_cities = aviation_data['Location'].value_counts().head(30)"
   ]
  },
  {
   "cell_type": "markdown",
   "metadata": {},
   "source": [
    "Let us now convert the dictionary to a pandas series for easier plotting"
   ]
  },
  {
   "cell_type": "code",
   "execution_count": null,
   "metadata": {},
   "outputs": [],
   "source": [
    "# Convert the dictionary to a pandas series for easier plotting\n",
    "most_dangerous_cities_series = pd.Series(most_dangerous_cities)"
   ]
  },
  {
   "cell_type": "code",
   "execution_count": null,
   "metadata": {},
   "outputs": [],
   "source": [
    "# Plotting the graph for least accidents per make\n",
    "plt.figure(figsize=(10, 6))\n",
    "most_dangerous_cities.plot(kind='bar', color='navy')\n",
    "plt.title('Top 30 Most Dangerous Cities to Fly Into')\n",
    "plt.xlabel('City')\n",
    "plt.ylabel('Number of Accidents')\n",
    "plt.xticks(rotation=90)  # Rotating the x-axis labels for better readability\n",
    "plt.tight_layout()  # Adjust layout to prevent label overlap\n",
    "plt.show()"
   ]
  },
  {
   "cell_type": "markdown",
   "metadata": {},
   "source": [
    "From the data above, it is clear that the most dangerous city to fly into is Achorage, Alaska followed by Miami, Florida. Anchorage is located in Alaska with extreme cold temperature and weather. Thus, while most accidents may have happened under VMC, it is imperative to note that extreme cold temperature and weather contributes significantly to aircraft accidents. This is important information as the company ventures into the business."
   ]
  },
  {
   "cell_type": "code",
   "execution_count": null,
   "metadata": {},
   "outputs": [],
   "source": []
  }
 ],
 "metadata": {
  "kernelspec": {
   "display_name": "Python (learn-env)",
   "language": "python",
   "name": "learn-env"
  },
  "language_info": {
   "codemirror_mode": {
    "name": "ipython",
    "version": 3
   },
   "file_extension": ".py",
   "mimetype": "text/x-python",
   "name": "python",
   "nbconvert_exporter": "python",
   "pygments_lexer": "ipython3",
   "version": "3.8.5"
  }
 },
 "nbformat": 4,
 "nbformat_minor": 2
}
